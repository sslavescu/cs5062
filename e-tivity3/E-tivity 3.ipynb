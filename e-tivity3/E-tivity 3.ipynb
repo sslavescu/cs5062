{
 "cells": [
  {
   "cell_type": "markdown",
   "metadata": {},
   "source": [
    "# E-tivity 3\n",
    "\n",
    "Student name: Sorin Slavescu\n",
    "Student id: 21185131"
   ]
  },
  {
   "cell_type": "markdown",
   "metadata": {},
   "source": [
    "    * Plot the sum of squared distances from the data points (in loans_train_prepared.csv) to the centers of the k-means clusters for various values of k.\n",
    "    * Use the Elbow method to pick the best value of k.\n",
    "    * Attempt also another method for determining the best value of k.\n",
    "    * Use the best value(s) of k to cluster the loans_train_prepared dataset with k-means. Aim at producing meaningful clustering.\n",
    "    * Use at least two different methods for visualising the clustering. Write a short conclusion about the characteristics of the clusters (max 250 words in a markdown cell)."
   ]
  },
  {
   "cell_type": "markdown",
   "metadata": {},
   "source": [
    "### A. Import Python Modules and Dataset"
   ]
  },
  {
   "cell_type": "code",
   "execution_count": 274,
   "metadata": {},
   "outputs": [],
   "source": [
    "import pandas as pd\n",
    "import numpy as np\n",
    "import matplotlib.pyplot as plt\n",
    "\n",
    "from sklearn import manifold #needed for multidimensional scaling (MDS) and t-SNE\n",
    "from sklearn import cluster #needed for k-Means clustering\n",
    "from sklearn import preprocessing #needed for scaling attributes to the nterval [0,1]"
   ]
  },
  {
   "cell_type": "markdown",
   "metadata": {},
   "source": [
    "#### Load the dataset"
   ]
  },
  {
   "cell_type": "code",
   "execution_count": 275,
   "metadata": {},
   "outputs": [
    {
     "name": "stdout",
     "output_type": "stream",
     "text": [
      "(number of examples, number of attributes):  (614, 16)\n"
     ]
    }
   ],
   "source": [
    "df = pd.read_csv(\"./loans_train_prepared-1.csv\")\n",
    "data = np.array(df.values, dtype=float)\n",
    "print('(number of examples, number of attributes): ', data.shape)"
   ]
  },
  {
   "cell_type": "markdown",
   "metadata": {},
   "source": [
    "### B. Rescale the Data\n",
    "Here we rescale the values in each column to the interval $[0,1]$ with MinMaxScaler. Please note that if your dataset is already prepared for ML there is no need to rescale it again. See https://scikit-learn.org/stable/modules/preprocessing.html for alternative rescaling techniques. In your work on this exercise experiment with other rescaling techniques to see if they lead to a more insightful clustering."
   ]
  },
  {
   "cell_type": "code",
   "execution_count": 276,
   "metadata": {},
   "outputs": [],
   "source": [
    "min_max_scaler = preprocessing.MinMaxScaler()\n",
    "data = min_max_scaler.fit_transform(data)"
   ]
  },
  {
   "cell_type": "markdown",
   "metadata": {},
   "source": [
    "### C. Scatterplot Function (to be used below for visualising a clustering)\n",
    "\n",
    "Skip this section when you read the notebook for the first time.\n",
    "\n",
    "The function `clustering_scatterplot()` creates the 2D scatter plot of the clustered dataset."
   ]
  },
  {
   "cell_type": "code",
   "execution_count": 277,
   "metadata": {},
   "outputs": [],
   "source": [
    "colors = np.array(['orange', 'blue', 'lime', 'cyan', 'khaki', 'pink', 'green', 'purple'])\n",
    "\n",
    "# points - a 2D array of (x,y) coordinates of data points\n",
    "# labels - an array of numeric labels in the interval [0..k-1], one for each point\n",
    "# centers - a 2D array of (x, y) coordinates of cluster centers\n",
    "# title - title of the plot\n",
    "\n",
    "\n",
    "def clustering_scatterplot(points, labels, centers, title):\n",
    "    \n",
    "    \n",
    "    n_clusters = np.unique(labels).size\n",
    "    for i in range(n_clusters):\n",
    "        h = plt.scatter(points[labels==i,0],\n",
    "                        points[labels==i,1], \n",
    "                        c=colors[i%colors.size],\n",
    "                        label = 'cluster '+str(i))\n",
    "\n",
    "    # plot the centers of the clusters\n",
    "    if centers is not None:\n",
    "        plt.scatter(centers[:,0], centers[:,1], c='r', marker='*', s=500)\n",
    "\n",
    "    _ = plt.title(title)\n",
    "    _ = plt.legend()\n",
    "    _ = plt.xlabel('x')\n",
    "    _ = plt.ylabel('y')"
   ]
  },
  {
   "cell_type": "code",
   "execution_count": 278,
   "metadata": {},
   "outputs": [
    {
     "name": "stdout",
     "output_type": "stream",
     "text": [
      "<class 'pandas.core.frame.DataFrame'>\n",
      "RangeIndex: 614 entries, 0 to 613\n",
      "Data columns (total 16 columns):\n",
      " #   Column                   Non-Null Count  Dtype  \n",
      "---  ------                   --------------  -----  \n",
      " 0   Dependents               614 non-null    float64\n",
      " 1   ApplicantIncome          614 non-null    float64\n",
      " 2   LoanAmount               614 non-null    float64\n",
      " 3   Loan_Amount_Term         614 non-null    float64\n",
      " 4   Credit_History           614 non-null    int64  \n",
      " 5   Gender_Male              614 non-null    int64  \n",
      " 6   Gender_nan               614 non-null    int64  \n",
      " 7   Married_Yes              614 non-null    int64  \n",
      " 8   Married_nan              614 non-null    int64  \n",
      " 9   Self_Employed_Yes        614 non-null    int64  \n",
      " 10  Self_Employed_nan        614 non-null    int64  \n",
      " 11  Education_Not Graduate   614 non-null    int64  \n",
      " 12  Property_Area_Semiurban  614 non-null    int64  \n",
      " 13  Property_Area_Urban      614 non-null    int64  \n",
      " 14  Loan_Status_Y            614 non-null    int64  \n",
      " 15  TotalIncome              614 non-null    float64\n",
      "dtypes: float64(5), int64(11)\n",
      "memory usage: 76.9 KB\n"
     ]
    }
   ],
   "source": [
    "df.info()"
   ]
  },
  {
   "cell_type": "markdown",
   "metadata": {},
   "source": [
    "# Finding the optimal number of clusters\n",
    "\n",
    "We have to identify a clustering approach that makes business sense. A large number of clusters will be difficult to explain hence I'm not going to try finding more than 10 clusters\n",
    "\n",
    "I have also noticed that putting all features through the clustering algorithm doesn't produce a clear way of clustering the data, the SSE and the Silhouette Coefficients seem to be behaving differently. Therefore, I have selected only a subset of features to put through the clustering algorithm and this produces some more human explainable results. The group of features to use is all up to a subject matter expert from the business that is looking to interpret this data. My intuition tells me that for the purpose of identifying whether a person is suitable to get a loan I will exclude some features such as gender, marrital status, education and address and will only consider if the person is self employed or not\n"
   ]
  },
  {
   "cell_type": "markdown",
   "metadata": {},
   "source": [
    "### K-Means Clustering using the Sum of Squared Errors (Elbow) method"
   ]
  },
  {
   "cell_type": "code",
   "execution_count": 279,
   "metadata": {},
   "outputs": [
    {
     "data": {
      "image/png": "[encoded data removed]",
      "text/plain": [
       "<Figure size 432x288 with 1 Axes>"
      ]
     },
     "metadata": {
      "needs_background": "light"
     },
     "output_type": "display_data"
    }
   ],
   "source": [
    "X = pd.DataFrame(data)\n",
    "X_to_cluster = X[[0, 1, 2, 3, 4, 9, 14, 15]]\n",
    "#print(X)\n",
    "\n",
    "sse = {}\n",
    "labels_sse = {}\n",
    "for k in range(1, 10):\n",
    "    kmeans_sse = cluster.KMeans(n_clusters=k, max_iter=1000).fit(X_to_cluster)\n",
    "    #kmeans = cluster.KMeans(n_clusters=k, max_iter=1000).fit(X)\n",
    "    #X[\"clusters\"] = kmeans.labels_\n",
    "    labels_sse[k] = kmeans_sse.labels_\n",
    "    #print(data[\"clusters\"])\n",
    "    sse[k] = kmeans_sse.inertia_ # Inertia: Sum of distances of samples to their closest cluster center\n",
    "plt.figure()\n",
    "plt.plot(list(sse.keys()), list(sse.values()))\n",
    "plt.xlabel(\"Number of cluster\")\n",
    "plt.ylabel(\"SSE\")\n",
    "plt.show()"
   ]
  },
  {
   "cell_type": "markdown",
   "metadata": {},
   "source": [
    "# KMeans Clustering using Silhouette Coefficient Method"
   ]
  },
  {
   "cell_type": "code",
   "execution_count": 280,
   "metadata": {},
   "outputs": [
    {
     "data": {
      "image/png": "[encoded data removed]",
      "text/plain": [
       "<Figure size 432x288 with 1 Axes>"
      ]
     },
     "metadata": {
      "needs_background": "light"
     },
     "output_type": "display_data"
    }
   ],
   "source": [
    "#calculate  with Silhouette score\n",
    "from sklearn.metrics import silhouette_score\n",
    "\n",
    "sil_coeffs = {}\n",
    "labels_sc = {}\n",
    "for k in range(2, 11):\n",
    "    sil_coeffs.setdefault(k)\n",
    "    kmeans_sc = cluster.KMeans(n_clusters=k, random_state=1).fit(X_to_cluster)\n",
    "    labels_sc[k] = kmeans_sc.labels_\n",
    "    sil_coeff = silhouette_score(X_to_cluster, labels_sc[k], metric='euclidean')\n",
    "    sil_coeffs[k]=sil_coeff\n",
    "plt.plot(sil_coeffs.keys(), sil_coeffs.values())\n",
    "plt.xlabel(\"Number of cluster\")\n",
    "plt.ylabel(\"Silhoutte Coeff\")\n",
    "plt.show()"
   ]
  },
  {
   "cell_type": "markdown",
   "metadata": {},
   "source": [
    "Looks like reducing the number of features to try to cluster we get a k of 4 satisfying both ways of evaluating the clusters approach. SSE approach may indicate a k of 5 but we can also say that from 4 the returns are diminishing.\n",
    "\n",
    "The Silhouette Coefficient approach may indicate a cluster of 10 but I will be using 4 because it may be easier to explain in human terms and from 4 to 10 the slope is not as aggressive as up to 4.\n",
    "\n",
    "### We will choose a k = 4"
   ]
  },
  {
   "cell_type": "code",
   "execution_count": 281,
   "metadata": {},
   "outputs": [],
   "source": [
    "k = 4\n",
    "#cluster the whole data not only the selected features\n",
    "clustered_data_sklearn = cluster.KMeans(n_clusters=k, n_init=10, max_iter=1000).fit(data)"
   ]
  },
  {
   "cell_type": "code",
   "execution_count": 282,
   "metadata": {},
   "outputs": [],
   "source": [
    "data_and_centers = np.r_[data,clustered_data_sklearn.cluster_centers_]"
   ]
  },
  {
   "cell_type": "code",
   "execution_count": 283,
   "metadata": {},
   "outputs": [
    {
     "name": "stdout",
     "output_type": "stream",
     "text": [
      "[[ 0.54800404  0.79432365]\n",
      " [-0.7033789   0.12861237]\n",
      " [-0.12888196  1.21118452]\n",
      " ...\n",
      " [ 0.67886195 -0.28373338]\n",
      " [-0.14152367 -0.46175183]\n",
      " [-0.78908036  0.2998714 ]]\n"
     ]
    }
   ],
   "source": [
    "XYcoordinates = manifold.MDS(n_components=2).fit_transform(data_and_centers)\n",
    "print(XYcoordinates)"
   ]
  },
  {
   "cell_type": "code",
   "execution_count": 284,
   "metadata": {},
   "outputs": [
    {
     "data": {
      "image/png": "[encoded data removed]",
      "text/plain": [
       "<Figure size 432x288 with 1 Axes>"
      ]
     },
     "metadata": {
      "needs_background": "light"
     },
     "output_type": "display_data"
    }
   ],
   "source": [
    "clustering_scatterplot(points=XYcoordinates[:-k,:], \n",
    "                       labels=clustered_data_sklearn.labels_, \n",
    "                       centers=XYcoordinates[-k:,:], \n",
    "                       title='MDS')"
   ]
  },
  {
   "cell_type": "code",
   "execution_count": 285,
   "metadata": {},
   "outputs": [],
   "source": [
    "df['cluster'] = pd.Series(clustered_data_sklearn.labels_, index=X.index)"
   ]
  },
  {
   "cell_type": "code",
   "execution_count": 286,
   "metadata": {},
   "outputs": [
    {
     "data": {
      "text/html": [
       "<div>\n",
       "<style scoped>\n",
       "    .dataframe tbody tr th:only-of-type {\n",
       "        vertical-align: middle;\n",
       "    }\n",
       "\n",
       "    .dataframe tbody tr th {\n",
       "        vertical-align: top;\n",
       "    }\n",
       "\n",
       "    .dataframe thead th {\n",
       "        text-align: right;\n",
       "    }\n",
       "</style>\n",
       "<table border=\"1\" class=\"dataframe\">\n",
       "  <thead>\n",
       "    <tr style=\"text-align: right;\">\n",
       "      <th></th>\n",
       "      <th>Dependents</th>\n",
       "      <th>ApplicantIncome</th>\n",
       "      <th>LoanAmount</th>\n",
       "      <th>Loan_Amount_Term</th>\n",
       "      <th>Credit_History</th>\n",
       "      <th>Gender_Male</th>\n",
       "      <th>Gender_nan</th>\n",
       "      <th>Married_Yes</th>\n",
       "      <th>Married_nan</th>\n",
       "      <th>Self_Employed_Yes</th>\n",
       "      <th>Self_Employed_nan</th>\n",
       "      <th>Education_Not Graduate</th>\n",
       "      <th>Property_Area_Semiurban</th>\n",
       "      <th>Property_Area_Urban</th>\n",
       "      <th>Loan_Status_Y</th>\n",
       "      <th>TotalIncome</th>\n",
       "      <th>cluster</th>\n",
       "    </tr>\n",
       "  </thead>\n",
       "  <tbody>\n",
       "    <tr>\n",
       "      <th>0</th>\n",
       "      <td>0.000000</td>\n",
       "      <td>1.084523</td>\n",
       "      <td>1.058140</td>\n",
       "      <td>0.75</td>\n",
       "      <td>1</td>\n",
       "      <td>1</td>\n",
       "      <td>0</td>\n",
       "      <td>0</td>\n",
       "      <td>0</td>\n",
       "      <td>0</td>\n",
       "      <td>0</td>\n",
       "      <td>0</td>\n",
       "      <td>0</td>\n",
       "      <td>1</td>\n",
       "      <td>1</td>\n",
       "      <td>0.841086</td>\n",
       "      <td>0</td>\n",
       "    </tr>\n",
       "    <tr>\n",
       "      <th>1</th>\n",
       "      <td>0.333333</td>\n",
       "      <td>0.925883</td>\n",
       "      <td>1.047319</td>\n",
       "      <td>0.75</td>\n",
       "      <td>1</td>\n",
       "      <td>1</td>\n",
       "      <td>0</td>\n",
       "      <td>1</td>\n",
       "      <td>0</td>\n",
       "      <td>0</td>\n",
       "      <td>0</td>\n",
       "      <td>0</td>\n",
       "      <td>0</td>\n",
       "      <td>0</td>\n",
       "      <td>0</td>\n",
       "      <td>0.871711</td>\n",
       "      <td>3</td>\n",
       "    </tr>\n",
       "    <tr>\n",
       "      <th>2</th>\n",
       "      <td>0.000000</td>\n",
       "      <td>0.683858</td>\n",
       "      <td>0.635920</td>\n",
       "      <td>0.75</td>\n",
       "      <td>1</td>\n",
       "      <td>1</td>\n",
       "      <td>0</td>\n",
       "      <td>1</td>\n",
       "      <td>0</td>\n",
       "      <td>1</td>\n",
       "      <td>0</td>\n",
       "      <td>0</td>\n",
       "      <td>0</td>\n",
       "      <td>1</td>\n",
       "      <td>1</td>\n",
       "      <td>0.385189</td>\n",
       "      <td>0</td>\n",
       "    </tr>\n",
       "    <tr>\n",
       "      <th>3</th>\n",
       "      <td>0.000000</td>\n",
       "      <td>0.608992</td>\n",
       "      <td>1.002824</td>\n",
       "      <td>0.75</td>\n",
       "      <td>1</td>\n",
       "      <td>1</td>\n",
       "      <td>0</td>\n",
       "      <td>1</td>\n",
       "      <td>0</td>\n",
       "      <td>0</td>\n",
       "      <td>0</td>\n",
       "      <td>1</td>\n",
       "      <td>0</td>\n",
       "      <td>1</td>\n",
       "      <td>1</td>\n",
       "      <td>0.717012</td>\n",
       "      <td>0</td>\n",
       "    </tr>\n",
       "    <tr>\n",
       "      <th>4</th>\n",
       "      <td>0.000000</td>\n",
       "      <td>1.101869</td>\n",
       "      <td>1.115650</td>\n",
       "      <td>0.75</td>\n",
       "      <td>1</td>\n",
       "      <td>1</td>\n",
       "      <td>0</td>\n",
       "      <td>0</td>\n",
       "      <td>0</td>\n",
       "      <td>0</td>\n",
       "      <td>0</td>\n",
       "      <td>0</td>\n",
       "      <td>0</td>\n",
       "      <td>1</td>\n",
       "      <td>1</td>\n",
       "      <td>0.860305</td>\n",
       "      <td>0</td>\n",
       "    </tr>\n",
       "  </tbody>\n",
       "</table>\n",
       "</div>"
      ],
      "text/plain": [
       "   Dependents  ApplicantIncome  LoanAmount  Loan_Amount_Term  Credit_History  \\\n",
       "0    0.000000         1.084523    1.058140              0.75               1   \n",
       "1    0.333333         0.925883    1.047319              0.75               1   \n",
       "2    0.000000         0.683858    0.635920              0.75               1   \n",
       "3    0.000000         0.608992    1.002824              0.75               1   \n",
       "4    0.000000         1.101869    1.115650              0.75               1   \n",
       "\n",
       "   Gender_Male  Gender_nan  Married_Yes  Married_nan  Self_Employed_Yes  \\\n",
       "0            1           0            0            0                  0   \n",
       "1            1           0            1            0                  0   \n",
       "2            1           0            1            0                  1   \n",
       "3            1           0            1            0                  0   \n",
       "4            1           0            0            0                  0   \n",
       "\n",
       "   Self_Employed_nan  Education_Not Graduate  Property_Area_Semiurban  \\\n",
       "0                  0                       0                        0   \n",
       "1                  0                       0                        0   \n",
       "2                  0                       0                        0   \n",
       "3                  0                       1                        0   \n",
       "4                  0                       0                        0   \n",
       "\n",
       "   Property_Area_Urban  Loan_Status_Y  TotalIncome  cluster  \n",
       "0                    1              1     0.841086        0  \n",
       "1                    0              0     0.871711        3  \n",
       "2                    1              1     0.385189        0  \n",
       "3                    1              1     0.717012        0  \n",
       "4                    1              1     0.860305        0  "
      ]
     },
     "execution_count": 286,
     "metadata": {},
     "output_type": "execute_result"
    }
   ],
   "source": [
    "df.head()"
   ]
  },
  {
   "cell_type": "code",
   "execution_count": 287,
   "metadata": {},
   "outputs": [
    {
     "data": {
      "text/html": [
       "<div>\n",
       "<style scoped>\n",
       "    .dataframe tbody tr th:only-of-type {\n",
       "        vertical-align: middle;\n",
       "    }\n",
       "\n",
       "    .dataframe tbody tr th {\n",
       "        vertical-align: top;\n",
       "    }\n",
       "\n",
       "    .dataframe thead th {\n",
       "        text-align: right;\n",
       "    }\n",
       "</style>\n",
       "<table border=\"1\" class=\"dataframe\">\n",
       "  <thead>\n",
       "    <tr style=\"text-align: right;\">\n",
       "      <th></th>\n",
       "      <th>Dependents</th>\n",
       "      <th>ApplicantIncome</th>\n",
       "      <th>LoanAmount</th>\n",
       "      <th>Loan_Amount_Term</th>\n",
       "      <th>Credit_History</th>\n",
       "      <th>Gender_Male</th>\n",
       "      <th>Gender_nan</th>\n",
       "      <th>Married_Yes</th>\n",
       "      <th>Married_nan</th>\n",
       "      <th>Self_Employed_Yes</th>\n",
       "      <th>Self_Employed_nan</th>\n",
       "      <th>Education_Not Graduate</th>\n",
       "      <th>Property_Area_Semiurban</th>\n",
       "      <th>Property_Area_Urban</th>\n",
       "      <th>Loan_Status_Y</th>\n",
       "      <th>TotalIncome</th>\n",
       "      <th>cluster</th>\n",
       "    </tr>\n",
       "  </thead>\n",
       "  <tbody>\n",
       "    <tr>\n",
       "      <th>609</th>\n",
       "      <td>0.000000</td>\n",
       "      <td>0.666409</td>\n",
       "      <td>0.676143</td>\n",
       "      <td>0.750</td>\n",
       "      <td>1</td>\n",
       "      <td>0</td>\n",
       "      <td>0</td>\n",
       "      <td>0</td>\n",
       "      <td>0</td>\n",
       "      <td>0</td>\n",
       "      <td>0</td>\n",
       "      <td>0</td>\n",
       "      <td>0</td>\n",
       "      <td>0</td>\n",
       "      <td>1</td>\n",
       "      <td>0.364708</td>\n",
       "      <td>1</td>\n",
       "    </tr>\n",
       "    <tr>\n",
       "      <th>610</th>\n",
       "      <td>1.000000</td>\n",
       "      <td>0.858916</td>\n",
       "      <td>0.395858</td>\n",
       "      <td>0.375</td>\n",
       "      <td>1</td>\n",
       "      <td>1</td>\n",
       "      <td>0</td>\n",
       "      <td>1</td>\n",
       "      <td>0</td>\n",
       "      <td>0</td>\n",
       "      <td>0</td>\n",
       "      <td>0</td>\n",
       "      <td>0</td>\n",
       "      <td>0</td>\n",
       "      <td>1</td>\n",
       "      <td>0.587496</td>\n",
       "      <td>2</td>\n",
       "    </tr>\n",
       "    <tr>\n",
       "      <th>611</th>\n",
       "      <td>0.333333</td>\n",
       "      <td>1.313719</td>\n",
       "      <td>1.566110</td>\n",
       "      <td>0.750</td>\n",
       "      <td>1</td>\n",
       "      <td>1</td>\n",
       "      <td>0</td>\n",
       "      <td>1</td>\n",
       "      <td>0</td>\n",
       "      <td>0</td>\n",
       "      <td>0</td>\n",
       "      <td>0</td>\n",
       "      <td>0</td>\n",
       "      <td>1</td>\n",
       "      <td>1</td>\n",
       "      <td>1.116075</td>\n",
       "      <td>0</td>\n",
       "    </tr>\n",
       "    <tr>\n",
       "      <th>612</th>\n",
       "      <td>0.666667</td>\n",
       "      <td>1.267616</td>\n",
       "      <td>1.325676</td>\n",
       "      <td>0.750</td>\n",
       "      <td>1</td>\n",
       "      <td>1</td>\n",
       "      <td>0</td>\n",
       "      <td>1</td>\n",
       "      <td>0</td>\n",
       "      <td>0</td>\n",
       "      <td>0</td>\n",
       "      <td>0</td>\n",
       "      <td>0</td>\n",
       "      <td>1</td>\n",
       "      <td>1</td>\n",
       "      <td>1.042256</td>\n",
       "      <td>0</td>\n",
       "    </tr>\n",
       "    <tr>\n",
       "      <th>613</th>\n",
       "      <td>0.000000</td>\n",
       "      <td>0.925883</td>\n",
       "      <td>1.074155</td>\n",
       "      <td>0.750</td>\n",
       "      <td>0</td>\n",
       "      <td>0</td>\n",
       "      <td>0</td>\n",
       "      <td>0</td>\n",
       "      <td>0</td>\n",
       "      <td>1</td>\n",
       "      <td>0</td>\n",
       "      <td>0</td>\n",
       "      <td>1</td>\n",
       "      <td>0</td>\n",
       "      <td>0</td>\n",
       "      <td>0.663523</td>\n",
       "      <td>1</td>\n",
       "    </tr>\n",
       "  </tbody>\n",
       "</table>\n",
       "</div>"
      ],
      "text/plain": [
       "     Dependents  ApplicantIncome  LoanAmount  Loan_Amount_Term  \\\n",
       "609    0.000000         0.666409    0.676143             0.750   \n",
       "610    1.000000         0.858916    0.395858             0.375   \n",
       "611    0.333333         1.313719    1.566110             0.750   \n",
       "612    0.666667         1.267616    1.325676             0.750   \n",
       "613    0.000000         0.925883    1.074155             0.750   \n",
       "\n",
       "     Credit_History  Gender_Male  Gender_nan  Married_Yes  Married_nan  \\\n",
       "609               1            0           0            0            0   \n",
       "610               1            1           0            1            0   \n",
       "611               1            1           0            1            0   \n",
       "612               1            1           0            1            0   \n",
       "613               0            0           0            0            0   \n",
       "\n",
       "     Self_Employed_Yes  Self_Employed_nan  Education_Not Graduate  \\\n",
       "609                  0                  0                       0   \n",
       "610                  0                  0                       0   \n",
       "611                  0                  0                       0   \n",
       "612                  0                  0                       0   \n",
       "613                  1                  0                       0   \n",
       "\n",
       "     Property_Area_Semiurban  Property_Area_Urban  Loan_Status_Y  TotalIncome  \\\n",
       "609                        0                    0              1     0.364708   \n",
       "610                        0                    0              1     0.587496   \n",
       "611                        0                    1              1     1.116075   \n",
       "612                        0                    1              1     1.042256   \n",
       "613                        1                    0              0     0.663523   \n",
       "\n",
       "     cluster  \n",
       "609        1  \n",
       "610        2  \n",
       "611        0  \n",
       "612        0  \n",
       "613        1  "
      ]
     },
     "execution_count": 287,
     "metadata": {},
     "output_type": "execute_result"
    }
   ],
   "source": [
    "df.tail()"
   ]
  },
  {
   "cell_type": "code",
   "execution_count": 288,
   "metadata": {},
   "outputs": [
    {
     "data": {
      "text/html": [
       "<div>\n",
       "<style scoped>\n",
       "    .dataframe tbody tr th:only-of-type {\n",
       "        vertical-align: middle;\n",
       "    }\n",
       "\n",
       "    .dataframe tbody tr th {\n",
       "        vertical-align: top;\n",
       "    }\n",
       "\n",
       "    .dataframe thead th {\n",
       "        text-align: right;\n",
       "    }\n",
       "</style>\n",
       "<table border=\"1\" class=\"dataframe\">\n",
       "  <thead>\n",
       "    <tr style=\"text-align: right;\">\n",
       "      <th></th>\n",
       "      <th>Dependents</th>\n",
       "      <th>ApplicantIncome</th>\n",
       "      <th>LoanAmount</th>\n",
       "      <th>Loan_Amount_Term</th>\n",
       "      <th>Credit_History</th>\n",
       "      <th>Gender_Male</th>\n",
       "      <th>Gender_nan</th>\n",
       "      <th>Married_Yes</th>\n",
       "      <th>Married_nan</th>\n",
       "      <th>Self_Employed_Yes</th>\n",
       "      <th>Self_Employed_nan</th>\n",
       "      <th>Education_Not Graduate</th>\n",
       "      <th>Property_Area_Semiurban</th>\n",
       "      <th>Property_Area_Urban</th>\n",
       "      <th>Loan_Status_Y</th>\n",
       "      <th>TotalIncome</th>\n",
       "    </tr>\n",
       "    <tr>\n",
       "      <th>cluster</th>\n",
       "      <th></th>\n",
       "      <th></th>\n",
       "      <th></th>\n",
       "      <th></th>\n",
       "      <th></th>\n",
       "      <th></th>\n",
       "      <th></th>\n",
       "      <th></th>\n",
       "      <th></th>\n",
       "      <th></th>\n",
       "      <th></th>\n",
       "      <th></th>\n",
       "      <th></th>\n",
       "      <th></th>\n",
       "      <th></th>\n",
       "      <th></th>\n",
       "    </tr>\n",
       "  </thead>\n",
       "  <tbody>\n",
       "    <tr>\n",
       "      <th>0</th>\n",
       "      <td>0.255814</td>\n",
       "      <td>0.908651</td>\n",
       "      <td>1.044120</td>\n",
       "      <td>0.692297</td>\n",
       "      <td>0.994186</td>\n",
       "      <td>0.837209</td>\n",
       "      <td>0.017442</td>\n",
       "      <td>0.656977</td>\n",
       "      <td>0.005814</td>\n",
       "      <td>0.110465</td>\n",
       "      <td>0.069767</td>\n",
       "      <td>0.162791</td>\n",
       "      <td>0.000000</td>\n",
       "      <td>1.000000</td>\n",
       "      <td>0.773256</td>\n",
       "      <td>0.854186</td>\n",
       "    </tr>\n",
       "    <tr>\n",
       "      <th>1</th>\n",
       "      <td>0.092732</td>\n",
       "      <td>0.914228</td>\n",
       "      <td>1.022330</td>\n",
       "      <td>0.736090</td>\n",
       "      <td>0.932331</td>\n",
       "      <td>0.578947</td>\n",
       "      <td>0.015038</td>\n",
       "      <td>0.000000</td>\n",
       "      <td>0.015038</td>\n",
       "      <td>0.135338</td>\n",
       "      <td>0.067669</td>\n",
       "      <td>0.248120</td>\n",
       "      <td>0.586466</td>\n",
       "      <td>0.000000</td>\n",
       "      <td>0.721805</td>\n",
       "      <td>0.795507</td>\n",
       "    </tr>\n",
       "    <tr>\n",
       "      <th>2</th>\n",
       "      <td>0.323625</td>\n",
       "      <td>0.926256</td>\n",
       "      <td>1.130333</td>\n",
       "      <td>0.715898</td>\n",
       "      <td>0.990291</td>\n",
       "      <td>0.878641</td>\n",
       "      <td>0.019417</td>\n",
       "      <td>1.000000</td>\n",
       "      <td>0.000000</td>\n",
       "      <td>0.155340</td>\n",
       "      <td>0.043689</td>\n",
       "      <td>0.194175</td>\n",
       "      <td>0.655340</td>\n",
       "      <td>0.000000</td>\n",
       "      <td>0.932039</td>\n",
       "      <td>0.916496</td>\n",
       "    </tr>\n",
       "    <tr>\n",
       "      <th>3</th>\n",
       "      <td>0.284790</td>\n",
       "      <td>0.913556</td>\n",
       "      <td>1.091198</td>\n",
       "      <td>0.714078</td>\n",
       "      <td>0.252427</td>\n",
       "      <td>0.844660</td>\n",
       "      <td>0.038835</td>\n",
       "      <td>0.766990</td>\n",
       "      <td>0.000000</td>\n",
       "      <td>0.126214</td>\n",
       "      <td>0.019417</td>\n",
       "      <td>0.320388</td>\n",
       "      <td>0.194175</td>\n",
       "      <td>0.291262</td>\n",
       "      <td>0.009709</td>\n",
       "      <td>0.856005</td>\n",
       "    </tr>\n",
       "  </tbody>\n",
       "</table>\n",
       "</div>"
      ],
      "text/plain": [
       "         Dependents  ApplicantIncome  LoanAmount  Loan_Amount_Term  \\\n",
       "cluster                                                              \n",
       "0          0.255814         0.908651    1.044120          0.692297   \n",
       "1          0.092732         0.914228    1.022330          0.736090   \n",
       "2          0.323625         0.926256    1.130333          0.715898   \n",
       "3          0.284790         0.913556    1.091198          0.714078   \n",
       "\n",
       "         Credit_History  Gender_Male  Gender_nan  Married_Yes  Married_nan  \\\n",
       "cluster                                                                      \n",
       "0              0.994186     0.837209    0.017442     0.656977     0.005814   \n",
       "1              0.932331     0.578947    0.015038     0.000000     0.015038   \n",
       "2              0.990291     0.878641    0.019417     1.000000     0.000000   \n",
       "3              0.252427     0.844660    0.038835     0.766990     0.000000   \n",
       "\n",
       "         Self_Employed_Yes  Self_Employed_nan  Education_Not Graduate  \\\n",
       "cluster                                                                 \n",
       "0                 0.110465           0.069767                0.162791   \n",
       "1                 0.135338           0.067669                0.248120   \n",
       "2                 0.155340           0.043689                0.194175   \n",
       "3                 0.126214           0.019417                0.320388   \n",
       "\n",
       "         Property_Area_Semiurban  Property_Area_Urban  Loan_Status_Y  \\\n",
       "cluster                                                                \n",
       "0                       0.000000             1.000000       0.773256   \n",
       "1                       0.586466             0.000000       0.721805   \n",
       "2                       0.655340             0.000000       0.932039   \n",
       "3                       0.194175             0.291262       0.009709   \n",
       "\n",
       "         TotalIncome  \n",
       "cluster               \n",
       "0           0.854186  \n",
       "1           0.795507  \n",
       "2           0.916496  \n",
       "3           0.856005  "
      ]
     },
     "execution_count": 288,
     "metadata": {},
     "output_type": "execute_result"
    }
   ],
   "source": [
    "df.groupby('cluster').mean()"
   ]
  },
  {
   "cell_type": "code",
   "execution_count": 290,
   "metadata": {},
   "outputs": [
    {
     "name": "stdout",
     "output_type": "stream",
     "text": [
      "[[13  4  5 14  3  7  2  1 15  0 11  9 10  6  8 12]\n",
      " [ 4  3 14 12  5  2  1 11 15  9  0 10  8  6 13  7]\n",
      " [ 7  4 14  5  3 12  2  0 15  1 11  9 10  6  8 13]\n",
      " [ 5  7  3  2 11 13  0  1 15  4 12  9  6 10 14  8]]\n"
     ]
    }
   ],
   "source": [
    "order_centroids = clustered_data_sklearn.cluster_centers_.argsort()[:, ::-1]\n",
    "# for i in range(k):\n",
    "#     print(\"Cluster %d:\" % i, end=\"\")\n",
    "#     for ind in order_centroids[i, :10]:\n",
    "#         print(\" %s\" % terms[ind], end=\"\")\n",
    "#     print()\n",
    "print(order_centroids)"
   ]
  },
  {
   "cell_type": "code",
   "execution_count": 297,
   "metadata": {},
   "outputs": [
    {
     "data": {
      "image/png": "[encoded data removed]",
      "text/plain": [
       "<Figure size 432x288 with 1 Axes>"
      ]
     },
     "metadata": {
      "needs_background": "light"
     },
     "output_type": "display_data"
    }
   ],
   "source": [
    "batch_size = 6\n",
    "k=4\n",
    "\n",
    "mbk = cluster.MiniBatchKMeans(init='k-means++', n_clusters=k, random_state=0, batch_size=batch_size, n_init=10)\n",
    "mbk.fit_predict(X)\n",
    "mbk_means_labels = mbk.labels_\n",
    "mbk_means_cluster_centers = mbk.cluster_centers_\n",
    "mbk_means_labels_unique = np.unique(mbk_means_labels)\n",
    "\n",
    "data_and_centers = np.r_[data,mbk_means_cluster_centers]\n",
    "XYcoordinates = manifold.MDS(n_components=2).fit_transform(data_and_centers)\n",
    "clustering_scatterplot(points=XYcoordinates[:-k,:], \n",
    "                       labels=mbk_means_labels, \n",
    "                       centers=XYcoordinates[-k:,:], \n",
    "                       title='MDS-MBK')"
   ]
  },
  {
   "cell_type": "code",
   "execution_count": 272,
   "metadata": {},
   "outputs": [
    {
     "data": {
      "image/png": "[encoded data removed]",
      "text/plain": [
       "<Figure size 432x288 with 1 Axes>"
      ]
     },
     "metadata": {
      "needs_background": "light"
     },
     "output_type": "display_data"
    }
   ],
   "source": [
    "from sklearn.cluster import AffinityPropagation\n",
    "from sklearn import metrics\n",
    "from itertools import cycle\n",
    "\n",
    "af = AffinityPropagation(random_state=0, max_iter=250).fit(data)\n",
    "cluster_centers_indices = af.cluster_centers_indices_\n",
    "labels = af.labels_\n",
    "n_clusters_ = len(cluster_centers_indices)\n",
    "preds = af.predict(data)\n",
    "\n",
    "colours = cycle('bgrcmy')\n",
    "for ks, col in zip(range(n_clusters_), colours):\n",
    "    class_members = labels == ks\n",
    "    cluster_center = data[cluster_centers_indices[ks]]\n",
    "    plt.plot(data[class_members, 0], data[class_members, 1], col + '.')\n",
    "    plt.plot(cluster_center[0], cluster_center[1], 'o', markerfacecolor=col,\n",
    "             markeredgecolor='k', markersize=14)\n",
    "    for x in data[class_members]:\n",
    "        plt.plot([cluster_center[0], x[0]], [cluster_center[1], x[1]], col)\n",
    "\n",
    "plt.title('Estimated number of clusters: %d' % n_clusters_)\n",
    "plt.show()"
   ]
  },
  {
   "cell_type": "markdown",
   "metadata": {},
   "source": [
    "# Conclusion\n",
    "\n",
    "I have tried a few algorithms for determining the best clusters for the loans data.\n",
    "\n",
    "A small number of clusters makes it more possible for humans to understand it but that may not always be what the clustering algorithms predict.\n",
    "\n",
    "AffinityPropagation algorithm finishes very quickly but it comes up with 53 clusters\n",
    "\n",
    "Using KMeans I've identified a k = 4 as a more suitable number of clusters.\n",
    "\n",
    "Plotting them using a clustering prediction using KMeans and Mini Batch KMeans produces quite similar results."
   ]
  },
  {
   "cell_type": "code",
   "execution_count": null,
   "metadata": {},
   "outputs": [],
   "source": []
  }
 ],
 "metadata": {
  "kernelspec": {
   "display_name": "Python 3 (ipykernel)",
   "language": "python",
   "name": "python3"
  },
  "language_info": {
   "codemirror_mode": {
    "name": "ipython",
    "version": 3
   },
   "file_extension": ".py",
   "mimetype": "text/x-python",
   "name": "python",
   "nbconvert_exporter": "python",
   "pygments_lexer": "ipython3",
   "version": "3.9.7"
  }
 },
 "nbformat": 4,
 "nbformat_minor": 2
}
